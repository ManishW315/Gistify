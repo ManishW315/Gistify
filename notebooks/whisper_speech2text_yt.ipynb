{
 "cells": [
  {
   "cell_type": "code",
   "execution_count": null,
   "metadata": {
    "trusted": true
   },
   "outputs": [],
   "source": [
    "import os\n",
    "import time\n",
    "import tempfile\n",
    "\n",
    "import yt_dlp as youtube_dl\n",
    "\n",
    "import torch\n",
    "from transformers import pipeline\n",
    "from transformers.pipelines.audio_utils import ffmpeg_read"
   ]
  },
  {
   "cell_type": "code",
   "execution_count": null,
   "metadata": {},
   "outputs": [],
   "source": [
    "class Cfg:\n",
    "    MODEL_NAME = \"openai/whisper-large-v2\"\n",
    "    BATCH_SIZE = 8\n",
    "    FILE_LIMIT_MB = 1000\n",
    "    YT_LENGTH_LIMIT_S = 3600"
   ]
  },
  {
   "cell_type": "code",
   "execution_count": null,
   "metadata": {
    "trusted": true
   },
   "outputs": [],
   "source": [
    "def _return_yt_html_embed(yt_url):\n",
    "    video_id = yt_url.split(\"?v=\")[-1]\n",
    "    HTML_str = f'<center> <iframe width=\"500\" height=\"320\" src=\"https://www.youtube.com/embed/{video_id}\"> </iframe>' \" </center>\"\n",
    "    return HTML_str\n",
    "\n",
    "\n",
    "def download_yt_audio(yt_url, filename):\n",
    "    info_loader = youtube_dl.YoutubeDL()\n",
    "\n",
    "    try:\n",
    "        info = info_loader.extract_info(yt_url, download=False)\n",
    "    except youtube_dl.utils.DownloadError as err:\n",
    "        print(str(err))\n",
    "\n",
    "    file_length = info[\"duration_string\"]\n",
    "    file_h_m_s = file_length.split(\":\")\n",
    "    file_h_m_s = [int(sub_length) for sub_length in file_h_m_s]\n",
    "\n",
    "    if len(file_h_m_s) == 1:\n",
    "        file_h_m_s.insert(0, 0)\n",
    "    if len(file_h_m_s) == 2:\n",
    "        file_h_m_s.insert(0, 0)\n",
    "    file_length_s = file_h_m_s[0] * 3600 + file_h_m_s[1] * 60 + file_h_m_s[2]\n",
    "\n",
    "    if file_length_s > Cfg.YT_LENGTH_LIMIT_S:\n",
    "        yt_length_limit_hms = time.strftime(\"%HH:%MM:%SS\", time.gmtime(Cfg.YT_LENGTH_LIMIT_S))\n",
    "        file_length_hms = time.strftime(\"%HH:%MM:%SS\", time.gmtime(file_length_s))\n",
    "        print(f\"Maximum YouTube length is {yt_length_limit_hms}, got {file_length_hms} YouTube video.\")\n",
    "\n",
    "    ydl_opts = {\"outtmpl\": filename, \"format\": \"worstvideo[ext=mp4]+bestaudio[ext=m4a]/best[ext=mp4]/best\"}\n",
    "\n",
    "    with youtube_dl.YoutubeDL(ydl_opts) as ydl:\n",
    "        try:\n",
    "            ydl.download([yt_url])\n",
    "        except youtube_dl.utils.ExtractorError as err:\n",
    "            print(str(err))\n",
    "\n",
    "\n",
    "def yt_transcribe(yt_url, task, pipe):\n",
    "    html_embed_str = _return_yt_html_embed(yt_url)\n",
    "\n",
    "    with tempfile.TemporaryDirectory() as tmpdirname:\n",
    "        filepath = os.path.join(tmpdirname, \"video.mp4\")\n",
    "        download_yt_audio(yt_url, filepath)\n",
    "        with open(filepath, \"rb\") as f:\n",
    "            inputs = f.read()\n",
    "\n",
    "    inputs = ffmpeg_read(inputs, pipe.feature_extractor.sampling_rate)\n",
    "    inputs = {\"array\": inputs, \"sampling_rate\": pipe.feature_extractor.sampling_rate}\n",
    "\n",
    "    text = pipe(inputs, batch_size=Cfg.BATCH_SIZE, generate_kwargs={\"task\": task}, return_timestamps=True)[\"text\"]\n",
    "\n",
    "    return html_embed_str, text"
   ]
  },
  {
   "cell_type": "code",
   "execution_count": null,
   "metadata": {
    "id": "qPI6_sXQjeWC",
    "trusted": true
   },
   "outputs": [
    {
     "name": "stderr",
     "output_type": "stream",
     "text": [
      "Downloading model.safetensors:   1%|          | 62.9M/6.17G [00:56<1:06:00, 1.54MB/s]"
     ]
    }
   ],
   "source": [
    "device = 0 if torch.cuda.is_available() else \"cpu\"\n",
    "\n",
    "pipe = pipeline(\n",
    "    task=\"automatic-speech-recognition\",\n",
    "    model=Cfg.MODEL_NAME,\n",
    "    chunk_length_s=30,\n",
    "    device=device,\n",
    ")"
   ]
  },
  {
   "cell_type": "code",
   "execution_count": null,
   "metadata": {
    "trusted": true
   },
   "outputs": [],
   "source": [
    "if __name__ == \"__main__\":\n",
    "    html_embed_str, text = yt_transcribe(\"https://www.youtube.com/shorts/BBCbIxuBJws\", \"transcribe\")\n",
    "    print(text)"
   ]
  },
  {
   "cell_type": "code",
   "execution_count": null,
   "metadata": {},
   "outputs": [],
   "source": []
  }
 ],
 "metadata": {
  "colab": {
   "provenance": []
  },
  "kernelspec": {
   "display_name": "Python 3",
   "language": "python",
   "name": "python3"
  },
  "language_info": {
   "codemirror_mode": {
    "name": "ipython",
    "version": 3
   },
   "file_extension": ".py",
   "mimetype": "text/x-python",
   "name": "python",
   "nbconvert_exporter": "python",
   "pygments_lexer": "ipython3",
   "version": "3.11.5"
  }
 },
 "nbformat": 4,
 "nbformat_minor": 4
}
